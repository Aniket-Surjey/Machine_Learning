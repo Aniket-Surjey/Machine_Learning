{
  "nbformat": 4,
  "nbformat_minor": 0,
  "metadata": {
    "colab": {
      "name": "CO III  Neural_Network_Classification.ipynb",
      "provenance": [],
      "collapsed_sections": [],
      "include_colab_link": true
    },
    "kernelspec": {
      "name": "python3",
      "display_name": "Python 3"
    },
    "language_info": {
      "name": "python"
    }
  },
  "cells": [
    {
      "cell_type": "markdown",
      "metadata": {
        "id": "view-in-github",
        "colab_type": "text"
      },
      "source": [
        "<a href=\"https://colab.research.google.com/github/Aniket-Surjey/Machine_Learning/blob/main/CO_III_Neural_Network_Classification.ipynb\" target=\"_parent\"><img src=\"https://colab.research.google.com/assets/colab-badge.svg\" alt=\"Open In Colab\"/></a>"
      ]
    },
    {
      "cell_type": "markdown",
      "metadata": {
        "id": "nhPEM4IUoDKA"
      },
      "source": [
        "# Joint Online Faculty Development programme on Deep Learning (Parallel Architecture) Aug 23 – Sep 3 , 2021\n",
        "\n"
      ]
    },
    {
      "cell_type": "markdown",
      "metadata": {
        "id": "ZpJe0cAaoG98"
      },
      "source": [
        "# Tutorial 3: Neural Network Classification"
      ]
    },
    {
      "cell_type": "markdown",
      "metadata": {
        "id": "dIT7QrK2PwdM"
      },
      "source": [
        "Dataset: [Pima Indian Diabetes Dataset](https://data.world/data-society/pima-indians-diabetes-database#)\n",
        "\n",
        "This dataset is originally from the National Institute of Diabetes and Digestive and Kidney Diseases. The objective is to predict based on diagnostic measurements whether a patient has diabetes.\n",
        "\n",
        "Several constraints were placed on the selection of these instances from a larger database. In particular, all patients here are females at least 21 years old of Pima Indian heritage.\n",
        "\n",
        "Attributes of PIMA dataset:\n",
        "\n",
        "**Pregnancies**: Number of times pregnant\n",
        "\n",
        "**Glucose**: Plasma glucose concentration a 2 hours in an oral glucose tolerance test\n",
        "\n",
        "**BloodPressure**: Diastolic blood pressure (mm Hg)\n",
        "\n",
        "**SkinThickness**: Triceps skin fold thickness (mm)\n",
        "\n",
        "**Insulin**: 2-Hour serum insulin (mu U/ml)\n",
        "\n",
        "**BMI**: Body mass index (weight in kg/(height in m)^2)\n",
        "\n",
        "**DiabetesPedigreeFunction**: Diabetes pedigree function\n",
        "\n",
        "**Age**: Age (years)\n",
        "\n",
        "**Outcome**: Class variable (0 or 1)"
      ]
    },
    {
      "cell_type": "markdown",
      "metadata": {
        "id": "FIAgs3sTY712"
      },
      "source": [
        "**1. Mount the Google Drive**"
      ]
    },
    {
      "cell_type": "code",
      "metadata": {
        "colab": {
          "base_uri": "https://localhost:8080/"
        },
        "id": "CrZg_G5MQ4L5",
        "outputId": "d9026508-5481-41be-add3-4dc2af3a86c4"
      },
      "source": [
        "from google.colab import drive\n",
        "drive.mount('/content/drive')"
      ],
      "execution_count": 4,
      "outputs": [
        {
          "output_type": "stream",
          "name": "stdout",
          "text": [
            "Drive already mounted at /content/drive; to attempt to forcibly remount, call drive.mount(\"/content/drive\", force_remount=True).\n"
          ]
        }
      ]
    },
    {
      "cell_type": "markdown",
      "metadata": {
        "id": "CqAhYoWHZAwg"
      },
      "source": [
        "**2. Move to the place where data resides**"
      ]
    },
    {
      "cell_type": "code",
      "metadata": {
        "colab": {
          "base_uri": "https://localhost:8080/"
        },
        "id": "TjgG_3CiP4eQ",
        "outputId": "bb85cf04-29da-4c39-da4b-b85d2cb15d65"
      },
      "source": [
        "%cd /content/drive/MyDrive"
      ],
      "execution_count": 5,
      "outputs": [
        {
          "output_type": "stream",
          "name": "stdout",
          "text": [
            "/content/drive/MyDrive\n"
          ]
        }
      ]
    },
    {
      "cell_type": "code",
      "source": [
        "!ls"
      ],
      "metadata": {
        "id": "S-KhHH_xATY8",
        "colab": {
          "base_uri": "https://localhost:8080/"
        },
        "outputId": "901b6c4c-09cf-4ffb-fbf0-4f92a6f81012"
      },
      "execution_count": 7,
      "outputs": [
        {
          "output_type": "stream",
          "name": "stdout",
          "text": [
            "\"Aniket's Resume.pdf\"\t\t       IMG_20190603_124235_compress44.jpg\n",
            "'Beee Assignment 1 and 2.pdf'\t       IMG_20190705_133449_compress86.jpg\n",
            "'BEEE ASSIGNMENT.pdf'\t\t       IMG_20200615_114709.jpg\n",
            " CAF_07313530469.pdf\t\t       IMG_20200818_232225_compress9.jpg\n",
            "'CamScanner 04-18-2020 18.30.58.pdf'   imgtopdf_generated_1808202339028.pdf\n",
            "'CamScanner 06-15-2020 11.49.40.pdf'   imgtopdf_generated_1808202340015.pdf\n",
            "'Colab Notebooks'\t\t       imgtopdf_generated_1808202340036.pdf\n",
            "'Coursera KHP8E6W98ZJT.pdf'\t      'Precedence  of operators.pdf'\n",
            " diabetes.csv\t\t\t       ROR.pdf\n",
            "'ED Sheets.pdf'\t\t\t       Snapchat-1359925828.jpg\n",
            "'English Assignment.pdf'\t      'WORKSHOP ALL VIVA QUESTIONS.pdf'\n",
            "'https:  www.ins.txt'\n"
          ]
        }
      ]
    },
    {
      "cell_type": "markdown",
      "metadata": {
        "id": "VKvfswsOZLUB"
      },
      "source": [
        "**3. Read the dataset from CSV file**"
      ]
    },
    {
      "cell_type": "code",
      "metadata": {
        "colab": {
          "base_uri": "https://localhost:8080/",
          "height": 407
        },
        "id": "32nNonRSSaQq",
        "outputId": "22ed3a8d-298c-48b0-dc6a-b445d107414a"
      },
      "source": [
        "import pandas as pd\n",
        "data = pd.read_csv('diabetes.csv')\n",
        "data.head(10)"
      ],
      "execution_count": 6,
      "outputs": [
        {
          "output_type": "execute_result",
          "data": {
            "text/plain": [
              "   Pregnancies  Glucose  BloodPressure  SkinThickness  Insulin   BMI  \\\n",
              "0            6      148             72             35        0  33.6   \n",
              "1            1       85             66             29        0  26.6   \n",
              "2            8      183             64              0        0  23.3   \n",
              "3            1       89             66             23       94  28.1   \n",
              "4            0      137             40             35      168  43.1   \n",
              "5            5      116             74              0        0  25.6   \n",
              "6            3       78             50             32       88  31.0   \n",
              "7           10      115              0              0        0  35.3   \n",
              "8            2      197             70             45      543  30.5   \n",
              "9            8      125             96              0        0   0.0   \n",
              "\n",
              "   DiabetesPedigreeFunction  Age  Outcome  \n",
              "0                     0.627   50        1  \n",
              "1                     0.351   31        0  \n",
              "2                     0.672   32        1  \n",
              "3                     0.167   21        0  \n",
              "4                     2.288   33        1  \n",
              "5                     0.201   30        0  \n",
              "6                     0.248   26        1  \n",
              "7                     0.134   29        0  \n",
              "8                     0.158   53        1  \n",
              "9                     0.232   54        1  "
            ],
            "text/html": [
              "\n",
              "  <div id=\"df-1aa172c7-ca3a-4e28-bbfc-1f73ba15a0c0\">\n",
              "    <div class=\"colab-df-container\">\n",
              "      <div>\n",
              "<style scoped>\n",
              "    .dataframe tbody tr th:only-of-type {\n",
              "        vertical-align: middle;\n",
              "    }\n",
              "\n",
              "    .dataframe tbody tr th {\n",
              "        vertical-align: top;\n",
              "    }\n",
              "\n",
              "    .dataframe thead th {\n",
              "        text-align: right;\n",
              "    }\n",
              "</style>\n",
              "<table border=\"1\" class=\"dataframe\">\n",
              "  <thead>\n",
              "    <tr style=\"text-align: right;\">\n",
              "      <th></th>\n",
              "      <th>Pregnancies</th>\n",
              "      <th>Glucose</th>\n",
              "      <th>BloodPressure</th>\n",
              "      <th>SkinThickness</th>\n",
              "      <th>Insulin</th>\n",
              "      <th>BMI</th>\n",
              "      <th>DiabetesPedigreeFunction</th>\n",
              "      <th>Age</th>\n",
              "      <th>Outcome</th>\n",
              "    </tr>\n",
              "  </thead>\n",
              "  <tbody>\n",
              "    <tr>\n",
              "      <th>0</th>\n",
              "      <td>6</td>\n",
              "      <td>148</td>\n",
              "      <td>72</td>\n",
              "      <td>35</td>\n",
              "      <td>0</td>\n",
              "      <td>33.6</td>\n",
              "      <td>0.627</td>\n",
              "      <td>50</td>\n",
              "      <td>1</td>\n",
              "    </tr>\n",
              "    <tr>\n",
              "      <th>1</th>\n",
              "      <td>1</td>\n",
              "      <td>85</td>\n",
              "      <td>66</td>\n",
              "      <td>29</td>\n",
              "      <td>0</td>\n",
              "      <td>26.6</td>\n",
              "      <td>0.351</td>\n",
              "      <td>31</td>\n",
              "      <td>0</td>\n",
              "    </tr>\n",
              "    <tr>\n",
              "      <th>2</th>\n",
              "      <td>8</td>\n",
              "      <td>183</td>\n",
              "      <td>64</td>\n",
              "      <td>0</td>\n",
              "      <td>0</td>\n",
              "      <td>23.3</td>\n",
              "      <td>0.672</td>\n",
              "      <td>32</td>\n",
              "      <td>1</td>\n",
              "    </tr>\n",
              "    <tr>\n",
              "      <th>3</th>\n",
              "      <td>1</td>\n",
              "      <td>89</td>\n",
              "      <td>66</td>\n",
              "      <td>23</td>\n",
              "      <td>94</td>\n",
              "      <td>28.1</td>\n",
              "      <td>0.167</td>\n",
              "      <td>21</td>\n",
              "      <td>0</td>\n",
              "    </tr>\n",
              "    <tr>\n",
              "      <th>4</th>\n",
              "      <td>0</td>\n",
              "      <td>137</td>\n",
              "      <td>40</td>\n",
              "      <td>35</td>\n",
              "      <td>168</td>\n",
              "      <td>43.1</td>\n",
              "      <td>2.288</td>\n",
              "      <td>33</td>\n",
              "      <td>1</td>\n",
              "    </tr>\n",
              "    <tr>\n",
              "      <th>5</th>\n",
              "      <td>5</td>\n",
              "      <td>116</td>\n",
              "      <td>74</td>\n",
              "      <td>0</td>\n",
              "      <td>0</td>\n",
              "      <td>25.6</td>\n",
              "      <td>0.201</td>\n",
              "      <td>30</td>\n",
              "      <td>0</td>\n",
              "    </tr>\n",
              "    <tr>\n",
              "      <th>6</th>\n",
              "      <td>3</td>\n",
              "      <td>78</td>\n",
              "      <td>50</td>\n",
              "      <td>32</td>\n",
              "      <td>88</td>\n",
              "      <td>31.0</td>\n",
              "      <td>0.248</td>\n",
              "      <td>26</td>\n",
              "      <td>1</td>\n",
              "    </tr>\n",
              "    <tr>\n",
              "      <th>7</th>\n",
              "      <td>10</td>\n",
              "      <td>115</td>\n",
              "      <td>0</td>\n",
              "      <td>0</td>\n",
              "      <td>0</td>\n",
              "      <td>35.3</td>\n",
              "      <td>0.134</td>\n",
              "      <td>29</td>\n",
              "      <td>0</td>\n",
              "    </tr>\n",
              "    <tr>\n",
              "      <th>8</th>\n",
              "      <td>2</td>\n",
              "      <td>197</td>\n",
              "      <td>70</td>\n",
              "      <td>45</td>\n",
              "      <td>543</td>\n",
              "      <td>30.5</td>\n",
              "      <td>0.158</td>\n",
              "      <td>53</td>\n",
              "      <td>1</td>\n",
              "    </tr>\n",
              "    <tr>\n",
              "      <th>9</th>\n",
              "      <td>8</td>\n",
              "      <td>125</td>\n",
              "      <td>96</td>\n",
              "      <td>0</td>\n",
              "      <td>0</td>\n",
              "      <td>0.0</td>\n",
              "      <td>0.232</td>\n",
              "      <td>54</td>\n",
              "      <td>1</td>\n",
              "    </tr>\n",
              "  </tbody>\n",
              "</table>\n",
              "</div>\n",
              "      <button class=\"colab-df-convert\" onclick=\"convertToInteractive('df-1aa172c7-ca3a-4e28-bbfc-1f73ba15a0c0')\"\n",
              "              title=\"Convert this dataframe to an interactive table.\"\n",
              "              style=\"display:none;\">\n",
              "        \n",
              "  <svg xmlns=\"http://www.w3.org/2000/svg\" height=\"24px\"viewBox=\"0 0 24 24\"\n",
              "       width=\"24px\">\n",
              "    <path d=\"M0 0h24v24H0V0z\" fill=\"none\"/>\n",
              "    <path d=\"M18.56 5.44l.94 2.06.94-2.06 2.06-.94-2.06-.94-.94-2.06-.94 2.06-2.06.94zm-11 1L8.5 8.5l.94-2.06 2.06-.94-2.06-.94L8.5 2.5l-.94 2.06-2.06.94zm10 10l.94 2.06.94-2.06 2.06-.94-2.06-.94-.94-2.06-.94 2.06-2.06.94z\"/><path d=\"M17.41 7.96l-1.37-1.37c-.4-.4-.92-.59-1.43-.59-.52 0-1.04.2-1.43.59L10.3 9.45l-7.72 7.72c-.78.78-.78 2.05 0 2.83L4 21.41c.39.39.9.59 1.41.59.51 0 1.02-.2 1.41-.59l7.78-7.78 2.81-2.81c.8-.78.8-2.07 0-2.86zM5.41 20L4 18.59l7.72-7.72 1.47 1.35L5.41 20z\"/>\n",
              "  </svg>\n",
              "      </button>\n",
              "      \n",
              "  <style>\n",
              "    .colab-df-container {\n",
              "      display:flex;\n",
              "      flex-wrap:wrap;\n",
              "      gap: 12px;\n",
              "    }\n",
              "\n",
              "    .colab-df-convert {\n",
              "      background-color: #E8F0FE;\n",
              "      border: none;\n",
              "      border-radius: 50%;\n",
              "      cursor: pointer;\n",
              "      display: none;\n",
              "      fill: #1967D2;\n",
              "      height: 32px;\n",
              "      padding: 0 0 0 0;\n",
              "      width: 32px;\n",
              "    }\n",
              "\n",
              "    .colab-df-convert:hover {\n",
              "      background-color: #E2EBFA;\n",
              "      box-shadow: 0px 1px 2px rgba(60, 64, 67, 0.3), 0px 1px 3px 1px rgba(60, 64, 67, 0.15);\n",
              "      fill: #174EA6;\n",
              "    }\n",
              "\n",
              "    [theme=dark] .colab-df-convert {\n",
              "      background-color: #3B4455;\n",
              "      fill: #D2E3FC;\n",
              "    }\n",
              "\n",
              "    [theme=dark] .colab-df-convert:hover {\n",
              "      background-color: #434B5C;\n",
              "      box-shadow: 0px 1px 3px 1px rgba(0, 0, 0, 0.15);\n",
              "      filter: drop-shadow(0px 1px 2px rgba(0, 0, 0, 0.3));\n",
              "      fill: #FFFFFF;\n",
              "    }\n",
              "  </style>\n",
              "\n",
              "      <script>\n",
              "        const buttonEl =\n",
              "          document.querySelector('#df-1aa172c7-ca3a-4e28-bbfc-1f73ba15a0c0 button.colab-df-convert');\n",
              "        buttonEl.style.display =\n",
              "          google.colab.kernel.accessAllowed ? 'block' : 'none';\n",
              "\n",
              "        async function convertToInteractive(key) {\n",
              "          const element = document.querySelector('#df-1aa172c7-ca3a-4e28-bbfc-1f73ba15a0c0');\n",
              "          const dataTable =\n",
              "            await google.colab.kernel.invokeFunction('convertToInteractive',\n",
              "                                                     [key], {});\n",
              "          if (!dataTable) return;\n",
              "\n",
              "          const docLinkHtml = 'Like what you see? Visit the ' +\n",
              "            '<a target=\"_blank\" href=https://colab.research.google.com/notebooks/data_table.ipynb>data table notebook</a>'\n",
              "            + ' to learn more about interactive tables.';\n",
              "          element.innerHTML = '';\n",
              "          dataTable['output_type'] = 'display_data';\n",
              "          await google.colab.output.renderOutput(dataTable, element);\n",
              "          const docLink = document.createElement('div');\n",
              "          docLink.innerHTML = docLinkHtml;\n",
              "          element.appendChild(docLink);\n",
              "        }\n",
              "      </script>\n",
              "    </div>\n",
              "  </div>\n",
              "  "
            ]
          },
          "metadata": {},
          "execution_count": 6
        }
      ]
    },
    {
      "cell_type": "code",
      "metadata": {
        "colab": {
          "base_uri": "https://localhost:8080/"
        },
        "id": "ZrslDLESShr7",
        "outputId": "59550f76-077a-4713-cf70-7cbdc0deb556"
      },
      "source": [
        "data.columns"
      ],
      "execution_count": 9,
      "outputs": [
        {
          "output_type": "execute_result",
          "data": {
            "text/plain": [
              "Index(['Pregnancies', 'Glucose', 'BloodPressure', 'SkinThickness', 'Insulin',\n",
              "       'BMI', 'DiabetesPedigreeFunction', 'Age', 'Outcome'],\n",
              "      dtype='object')"
            ]
          },
          "metadata": {},
          "execution_count": 9
        }
      ]
    },
    {
      "cell_type": "code",
      "metadata": {
        "colab": {
          "base_uri": "https://localhost:8080/"
        },
        "id": "BLElehZ-Skgq",
        "outputId": "8e82d317-b3aa-4e50-ed25-fa9651a5c0e1"
      },
      "source": [
        "data.values"
      ],
      "execution_count": 10,
      "outputs": [
        {
          "output_type": "execute_result",
          "data": {
            "text/plain": [
              "array([[  6.   , 148.   ,  72.   , ...,   0.627,  50.   ,   1.   ],\n",
              "       [  1.   ,  85.   ,  66.   , ...,   0.351,  31.   ,   0.   ],\n",
              "       [  8.   , 183.   ,  64.   , ...,   0.672,  32.   ,   1.   ],\n",
              "       ...,\n",
              "       [  5.   , 121.   ,  72.   , ...,   0.245,  30.   ,   0.   ],\n",
              "       [  1.   , 126.   ,  60.   , ...,   0.349,  47.   ,   1.   ],\n",
              "       [  1.   ,  93.   ,  70.   , ...,   0.315,  23.   ,   0.   ]])"
            ]
          },
          "metadata": {},
          "execution_count": 10
        }
      ]
    },
    {
      "cell_type": "markdown",
      "metadata": {
        "id": "2HnZxGc4ZQlf"
      },
      "source": [
        "**4. Store the data into input feature and label variables**"
      ]
    },
    {
      "cell_type": "code",
      "metadata": {
        "colab": {
          "base_uri": "https://localhost:8080/"
        },
        "id": "IPfA5BF0Sm4R",
        "outputId": "dbe7e4bf-c268-47f9-f1ea-6d563b442fb7"
      },
      "source": [
        "dataset= data.values\n",
        "X = dataset[:,0:8]\n",
        "Y = dataset[:,8]\n",
        "print(X)\n",
        "print(Y)"
      ],
      "execution_count": 11,
      "outputs": [
        {
          "output_type": "stream",
          "name": "stdout",
          "text": [
            "[[  6.    148.     72.    ...  33.6     0.627  50.   ]\n",
            " [  1.     85.     66.    ...  26.6     0.351  31.   ]\n",
            " [  8.    183.     64.    ...  23.3     0.672  32.   ]\n",
            " ...\n",
            " [  5.    121.     72.    ...  26.2     0.245  30.   ]\n",
            " [  1.    126.     60.    ...  30.1     0.349  47.   ]\n",
            " [  1.     93.     70.    ...  30.4     0.315  23.   ]]\n",
            "[1. 0. 1. 0. 1. 0. 1. 0. 1. 1. 0. 1. 0. 1. 1. 1. 1. 1. 0. 1. 0. 0. 1. 1.\n",
            " 1. 1. 1. 0. 0. 0. 0. 1. 0. 0. 0. 0. 0. 1. 1. 1. 0. 0. 0. 1. 0. 1. 0. 0.\n",
            " 1. 0. 0. 0. 0. 1. 0. 0. 1. 0. 0. 0. 0. 1. 0. 0. 1. 0. 1. 0. 0. 0. 1. 0.\n",
            " 1. 0. 0. 0. 0. 0. 1. 0. 0. 0. 0. 0. 1. 0. 0. 0. 1. 0. 0. 0. 0. 1. 0. 0.\n",
            " 0. 0. 0. 1. 1. 0. 0. 0. 0. 0. 0. 0. 0. 1. 1. 1. 0. 0. 1. 1. 1. 0. 0. 0.\n",
            " 1. 0. 0. 0. 1. 1. 0. 0. 1. 1. 1. 1. 1. 0. 0. 0. 0. 0. 0. 0. 0. 0. 0. 1.\n",
            " 0. 0. 0. 0. 0. 0. 0. 0. 1. 0. 1. 1. 0. 0. 0. 1. 0. 0. 0. 0. 1. 1. 0. 0.\n",
            " 0. 0. 1. 1. 0. 0. 0. 1. 0. 1. 0. 1. 0. 0. 0. 0. 0. 1. 1. 1. 1. 1. 0. 0.\n",
            " 1. 1. 0. 1. 0. 1. 1. 1. 0. 0. 0. 0. 0. 0. 1. 1. 0. 1. 0. 0. 0. 1. 1. 1.\n",
            " 1. 0. 1. 1. 1. 1. 0. 0. 0. 0. 0. 1. 0. 0. 1. 1. 0. 0. 0. 1. 1. 1. 1. 0.\n",
            " 0. 0. 1. 1. 0. 1. 0. 0. 0. 0. 0. 0. 0. 0. 1. 1. 0. 0. 0. 1. 0. 1. 0. 0.\n",
            " 1. 0. 1. 0. 0. 1. 1. 0. 0. 0. 0. 0. 1. 0. 0. 0. 1. 0. 0. 1. 1. 0. 0. 1.\n",
            " 0. 0. 0. 1. 1. 1. 0. 0. 1. 0. 1. 0. 1. 1. 0. 1. 0. 0. 1. 0. 1. 1. 0. 0.\n",
            " 1. 0. 1. 0. 0. 1. 0. 1. 0. 1. 1. 1. 0. 0. 1. 0. 1. 0. 0. 0. 1. 0. 0. 0.\n",
            " 0. 1. 1. 1. 0. 0. 0. 0. 0. 0. 0. 0. 0. 1. 0. 0. 0. 0. 0. 1. 1. 1. 0. 1.\n",
            " 1. 0. 0. 1. 0. 0. 1. 0. 0. 1. 1. 0. 0. 0. 0. 1. 0. 0. 1. 0. 0. 0. 0. 0.\n",
            " 0. 0. 1. 1. 1. 0. 0. 1. 0. 0. 1. 0. 0. 1. 0. 1. 1. 0. 1. 0. 1. 0. 1. 0.\n",
            " 1. 1. 0. 0. 0. 0. 1. 1. 0. 1. 0. 1. 0. 0. 0. 0. 1. 1. 0. 1. 0. 1. 0. 0.\n",
            " 0. 0. 0. 1. 0. 0. 0. 0. 1. 0. 0. 1. 1. 1. 0. 0. 1. 0. 0. 1. 0. 0. 0. 1.\n",
            " 0. 0. 1. 0. 0. 0. 0. 0. 0. 0. 0. 0. 1. 0. 0. 0. 0. 0. 0. 0. 1. 0. 0. 0.\n",
            " 1. 0. 0. 0. 1. 1. 0. 0. 0. 0. 0. 0. 0. 1. 0. 0. 0. 0. 1. 0. 0. 0. 1. 0.\n",
            " 0. 0. 1. 0. 0. 0. 1. 0. 0. 0. 0. 1. 1. 0. 0. 0. 0. 0. 0. 1. 0. 0. 0. 0.\n",
            " 0. 0. 0. 0. 0. 0. 0. 1. 0. 0. 0. 1. 1. 1. 1. 0. 0. 1. 1. 0. 0. 0. 0. 0.\n",
            " 0. 0. 0. 0. 0. 0. 0. 0. 1. 1. 0. 0. 0. 0. 0. 0. 0. 1. 0. 0. 0. 0. 0. 0.\n",
            " 0. 1. 0. 1. 1. 0. 0. 0. 1. 0. 1. 0. 1. 0. 1. 0. 1. 0. 0. 1. 0. 0. 1. 0.\n",
            " 0. 0. 0. 1. 1. 0. 1. 0. 0. 0. 0. 1. 1. 0. 1. 0. 0. 0. 1. 1. 0. 0. 0. 0.\n",
            " 0. 0. 0. 0. 0. 0. 1. 0. 0. 0. 0. 1. 0. 0. 1. 0. 0. 0. 1. 0. 0. 0. 1. 1.\n",
            " 1. 0. 0. 0. 0. 0. 0. 1. 0. 0. 0. 1. 0. 1. 1. 1. 1. 0. 1. 1. 0. 0. 0. 0.\n",
            " 0. 0. 0. 1. 1. 0. 1. 0. 0. 1. 0. 1. 0. 0. 0. 0. 0. 1. 0. 1. 0. 1. 0. 1.\n",
            " 1. 0. 0. 0. 0. 1. 1. 0. 0. 0. 1. 0. 1. 1. 0. 0. 1. 0. 0. 1. 1. 0. 0. 1.\n",
            " 0. 0. 1. 0. 0. 0. 0. 0. 0. 0. 1. 1. 1. 0. 0. 0. 0. 0. 0. 1. 1. 0. 0. 1.\n",
            " 0. 0. 1. 0. 1. 1. 1. 0. 0. 1. 1. 1. 0. 1. 0. 1. 0. 1. 0. 0. 0. 0. 1. 0.]\n"
          ]
        }
      ]
    },
    {
      "cell_type": "markdown",
      "metadata": {
        "id": "OdPZerNUZV4Q"
      },
      "source": [
        "**5. Data Normalization**"
      ]
    },
    {
      "cell_type": "code",
      "metadata": {
        "colab": {
          "base_uri": "https://localhost:8080/"
        },
        "id": "pM4g3T1fWri-",
        "outputId": "b05481ce-f54f-4ae7-c752-3b3561a31f09"
      },
      "source": [
        "from sklearn import preprocessing\n",
        "min_max_scaler = preprocessing.MinMaxScaler()\n",
        "X_scale = min_max_scaler.fit_transform(X)\n",
        "X_scale"
      ],
      "execution_count": 12,
      "outputs": [
        {
          "output_type": "execute_result",
          "data": {
            "text/plain": [
              "array([[0.35294118, 0.74371859, 0.59016393, ..., 0.50074516, 0.23441503,\n",
              "        0.48333333],\n",
              "       [0.05882353, 0.42713568, 0.54098361, ..., 0.39642325, 0.11656704,\n",
              "        0.16666667],\n",
              "       [0.47058824, 0.91959799, 0.52459016, ..., 0.34724292, 0.25362938,\n",
              "        0.18333333],\n",
              "       ...,\n",
              "       [0.29411765, 0.6080402 , 0.59016393, ..., 0.390462  , 0.07130658,\n",
              "        0.15      ],\n",
              "       [0.05882353, 0.63316583, 0.49180328, ..., 0.4485842 , 0.11571307,\n",
              "        0.43333333],\n",
              "       [0.05882353, 0.46733668, 0.57377049, ..., 0.45305514, 0.10119556,\n",
              "        0.03333333]])"
            ]
          },
          "metadata": {},
          "execution_count": 12
        }
      ]
    },
    {
      "cell_type": "markdown",
      "metadata": {
        "id": "n1B5x8C0ZY-e"
      },
      "source": [
        "**6. One-hot vector conversion**"
      ]
    },
    {
      "cell_type": "code",
      "metadata": {
        "colab": {
          "base_uri": "https://localhost:8080/"
        },
        "id": "IWPUAnA-XNd8",
        "outputId": "dbf3b88f-6aaf-4f50-fce2-5c0842c0afab"
      },
      "source": [
        "from keras.utils import np_utils\n",
        "encoded_y = np_utils.to_categorical(Y)\n",
        "encoded_y"
      ],
      "execution_count": 13,
      "outputs": [
        {
          "output_type": "execute_result",
          "data": {
            "text/plain": [
              "array([[0., 1.],\n",
              "       [1., 0.],\n",
              "       [0., 1.],\n",
              "       ...,\n",
              "       [1., 0.],\n",
              "       [0., 1.],\n",
              "       [1., 0.]], dtype=float32)"
            ]
          },
          "metadata": {},
          "execution_count": 13
        }
      ]
    },
    {
      "cell_type": "markdown",
      "metadata": {
        "id": "IeJWmMxjZbgo"
      },
      "source": [
        "**7. Split the dataset into training, testing and validation set**"
      ]
    },
    {
      "cell_type": "code",
      "metadata": {
        "colab": {
          "base_uri": "https://localhost:8080/"
        },
        "id": "3BqXnV1FXYIV",
        "outputId": "34a6e97b-a792-4a59-e88f-1199907539ec"
      },
      "source": [
        "from sklearn.model_selection import train_test_split\n",
        "X_training, X_testing, Y_training, Y_testing = train_test_split(X_scale, encoded_y, test_size=0.2, random_state=10)\n",
        "X_training, X_valid, Y_training, Y_valid = train_test_split(X_training, Y_training, test_size=0.2, random_state=10)\n",
        "print(len(X_training))\n",
        "print(len(X_testing))\n",
        "print(len(X_valid))"
      ],
      "execution_count": 14,
      "outputs": [
        {
          "output_type": "stream",
          "name": "stdout",
          "text": [
            "491\n",
            "154\n",
            "123\n"
          ]
        }
      ]
    },
    {
      "cell_type": "markdown",
      "metadata": {
        "id": "EH9IZizVZfKB"
      },
      "source": [
        "**8. Model Creation**"
      ]
    },
    {
      "cell_type": "code",
      "metadata": {
        "colab": {
          "base_uri": "https://localhost:8080/"
        },
        "id": "hNfmvbMOXeku",
        "outputId": "a85b4125-e30c-455e-da72-005e327a2f92"
      },
      "source": [
        "from keras.models import Sequential\n",
        "from keras.layers import Dense\n",
        "\n",
        "# Creating the model\n",
        "model = Sequential()\n",
        "model.add(Dense(12, input_shape=(8,), activation='relu'))\n",
        "model.add(Dense(8, activation='relu'))\n",
        "model.add(Dense(2, activation='softmax'))\n",
        "model.summary()   #gives a summary of the model"
      ],
      "execution_count": 17,
      "outputs": [
        {
          "output_type": "stream",
          "name": "stdout",
          "text": [
            "Model: \"sequential_1\"\n",
            "_________________________________________________________________\n",
            " Layer (type)                Output Shape              Param #   \n",
            "=================================================================\n",
            " dense_3 (Dense)             (None, 12)                108       \n",
            "                                                                 \n",
            " dense_4 (Dense)             (None, 8)                 104       \n",
            "                                                                 \n",
            " dense_5 (Dense)             (None, 2)                 18        \n",
            "                                                                 \n",
            "=================================================================\n",
            "Total params: 230\n",
            "Trainable params: 230\n",
            "Non-trainable params: 0\n",
            "_________________________________________________________________\n"
          ]
        }
      ]
    },
    {
      "cell_type": "markdown",
      "metadata": {
        "id": "iYxZHI_EZiEF"
      },
      "source": [
        "**9. Model Compile**"
      ]
    },
    {
      "cell_type": "code",
      "metadata": {
        "id": "plF2qlxwXiIY"
      },
      "source": [
        "from tensorflow.keras import optimizers\n",
        "opt=optimizers.SGD(learning_rate=0.0001)\n",
        "model.compile(loss='categorical_crossentropy', optimizer=opt, metrics=['accuracy'])"
      ],
      "execution_count": 21,
      "outputs": []
    },
    {
      "cell_type": "markdown",
      "metadata": {
        "id": "E8VrUFVQZkNd"
      },
      "source": [
        "**10. Model Training**"
      ]
    },
    {
      "cell_type": "markdown",
      "source": [
        "if you have 1000 training examples, and your batch size is  500, then it will take 2 iterations to complete 1 epoch."
      ],
      "metadata": {
        "id": "08Ul5lN90_Sp"
      }
    },
    {
      "cell_type": "code",
      "metadata": {
        "colab": {
          "base_uri": "https://localhost:8080/"
        },
        "id": "xhDZ8yPhXrs0",
        "outputId": "5fbec579-6186-4ef3-9168-3a4fe0a7fa66"
      },
      "source": [
        "hist = model.fit(X_training, Y_training,batch_size=8,  epochs=200, validation_data=(X_valid,Y_valid))"
      ],
      "execution_count": 22,
      "outputs": [
        {
          "output_type": "stream",
          "name": "stdout",
          "text": [
            "Epoch 1/200\n",
            "62/62 [==============================] - 1s 6ms/step - loss: 0.6822 - accuracy: 0.6558 - val_loss: 0.6934 - val_accuracy: 0.6016\n",
            "Epoch 2/200\n",
            "62/62 [==============================] - 0s 2ms/step - loss: 0.6816 - accuracy: 0.6578 - val_loss: 0.6930 - val_accuracy: 0.6098\n",
            "Epoch 3/200\n",
            "62/62 [==============================] - 0s 2ms/step - loss: 0.6811 - accuracy: 0.6578 - val_loss: 0.6927 - val_accuracy: 0.6098\n",
            "Epoch 4/200\n",
            "62/62 [==============================] - 0s 3ms/step - loss: 0.6805 - accuracy: 0.6578 - val_loss: 0.6923 - val_accuracy: 0.6098\n",
            "Epoch 5/200\n",
            "62/62 [==============================] - 0s 2ms/step - loss: 0.6800 - accuracy: 0.6578 - val_loss: 0.6920 - val_accuracy: 0.6098\n",
            "Epoch 6/200\n",
            "62/62 [==============================] - 0s 3ms/step - loss: 0.6795 - accuracy: 0.6578 - val_loss: 0.6917 - val_accuracy: 0.6179\n",
            "Epoch 7/200\n",
            "62/62 [==============================] - 0s 3ms/step - loss: 0.6789 - accuracy: 0.6599 - val_loss: 0.6914 - val_accuracy: 0.6179\n",
            "Epoch 8/200\n",
            "62/62 [==============================] - 0s 3ms/step - loss: 0.6784 - accuracy: 0.6599 - val_loss: 0.6911 - val_accuracy: 0.6179\n",
            "Epoch 9/200\n",
            "62/62 [==============================] - 0s 2ms/step - loss: 0.6780 - accuracy: 0.6619 - val_loss: 0.6908 - val_accuracy: 0.6179\n",
            "Epoch 10/200\n",
            "62/62 [==============================] - 0s 2ms/step - loss: 0.6775 - accuracy: 0.6619 - val_loss: 0.6905 - val_accuracy: 0.6260\n",
            "Epoch 11/200\n",
            "62/62 [==============================] - 0s 3ms/step - loss: 0.6770 - accuracy: 0.6640 - val_loss: 0.6902 - val_accuracy: 0.6260\n",
            "Epoch 12/200\n",
            "62/62 [==============================] - 0s 3ms/step - loss: 0.6765 - accuracy: 0.6640 - val_loss: 0.6899 - val_accuracy: 0.6260\n",
            "Epoch 13/200\n",
            "62/62 [==============================] - 0s 3ms/step - loss: 0.6761 - accuracy: 0.6640 - val_loss: 0.6897 - val_accuracy: 0.6260\n",
            "Epoch 14/200\n",
            "62/62 [==============================] - 0s 2ms/step - loss: 0.6756 - accuracy: 0.6660 - val_loss: 0.6894 - val_accuracy: 0.6260\n",
            "Epoch 15/200\n",
            "62/62 [==============================] - 0s 2ms/step - loss: 0.6752 - accuracy: 0.6660 - val_loss: 0.6891 - val_accuracy: 0.6260\n",
            "Epoch 16/200\n",
            "62/62 [==============================] - 0s 2ms/step - loss: 0.6747 - accuracy: 0.6660 - val_loss: 0.6888 - val_accuracy: 0.6260\n",
            "Epoch 17/200\n",
            "62/62 [==============================] - 0s 3ms/step - loss: 0.6743 - accuracy: 0.6660 - val_loss: 0.6886 - val_accuracy: 0.6260\n",
            "Epoch 18/200\n",
            "62/62 [==============================] - 0s 3ms/step - loss: 0.6739 - accuracy: 0.6680 - val_loss: 0.6883 - val_accuracy: 0.6260\n",
            "Epoch 19/200\n",
            "62/62 [==============================] - 0s 3ms/step - loss: 0.6735 - accuracy: 0.6680 - val_loss: 0.6881 - val_accuracy: 0.6260\n",
            "Epoch 20/200\n",
            "62/62 [==============================] - 0s 2ms/step - loss: 0.6731 - accuracy: 0.6680 - val_loss: 0.6878 - val_accuracy: 0.6260\n",
            "Epoch 21/200\n",
            "62/62 [==============================] - 0s 3ms/step - loss: 0.6727 - accuracy: 0.6680 - val_loss: 0.6876 - val_accuracy: 0.6260\n",
            "Epoch 22/200\n",
            "62/62 [==============================] - 0s 2ms/step - loss: 0.6723 - accuracy: 0.6680 - val_loss: 0.6874 - val_accuracy: 0.6260\n",
            "Epoch 23/200\n",
            "62/62 [==============================] - 0s 3ms/step - loss: 0.6719 - accuracy: 0.6680 - val_loss: 0.6872 - val_accuracy: 0.6260\n",
            "Epoch 24/200\n",
            "62/62 [==============================] - 0s 3ms/step - loss: 0.6716 - accuracy: 0.6680 - val_loss: 0.6870 - val_accuracy: 0.6260\n",
            "Epoch 25/200\n",
            "62/62 [==============================] - 0s 2ms/step - loss: 0.6712 - accuracy: 0.6680 - val_loss: 0.6867 - val_accuracy: 0.6260\n",
            "Epoch 26/200\n",
            "62/62 [==============================] - 0s 3ms/step - loss: 0.6709 - accuracy: 0.6680 - val_loss: 0.6865 - val_accuracy: 0.6260\n",
            "Epoch 27/200\n",
            "62/62 [==============================] - 0s 2ms/step - loss: 0.6706 - accuracy: 0.6680 - val_loss: 0.6863 - val_accuracy: 0.6260\n",
            "Epoch 28/200\n",
            "62/62 [==============================] - 0s 2ms/step - loss: 0.6702 - accuracy: 0.6680 - val_loss: 0.6861 - val_accuracy: 0.6260\n",
            "Epoch 29/200\n",
            "62/62 [==============================] - 0s 3ms/step - loss: 0.6699 - accuracy: 0.6680 - val_loss: 0.6859 - val_accuracy: 0.6260\n",
            "Epoch 30/200\n",
            "62/62 [==============================] - 0s 2ms/step - loss: 0.6696 - accuracy: 0.6680 - val_loss: 0.6857 - val_accuracy: 0.6260\n",
            "Epoch 31/200\n",
            "62/62 [==============================] - 0s 2ms/step - loss: 0.6693 - accuracy: 0.6680 - val_loss: 0.6855 - val_accuracy: 0.6260\n",
            "Epoch 32/200\n",
            "62/62 [==============================] - 0s 2ms/step - loss: 0.6690 - accuracy: 0.6680 - val_loss: 0.6853 - val_accuracy: 0.6260\n",
            "Epoch 33/200\n",
            "62/62 [==============================] - 0s 2ms/step - loss: 0.6687 - accuracy: 0.6680 - val_loss: 0.6852 - val_accuracy: 0.6260\n",
            "Epoch 34/200\n",
            "62/62 [==============================] - 0s 2ms/step - loss: 0.6684 - accuracy: 0.6680 - val_loss: 0.6850 - val_accuracy: 0.6260\n",
            "Epoch 35/200\n",
            "62/62 [==============================] - 0s 2ms/step - loss: 0.6681 - accuracy: 0.6680 - val_loss: 0.6848 - val_accuracy: 0.6260\n",
            "Epoch 36/200\n",
            "62/62 [==============================] - 0s 3ms/step - loss: 0.6678 - accuracy: 0.6680 - val_loss: 0.6846 - val_accuracy: 0.6260\n",
            "Epoch 37/200\n",
            "62/62 [==============================] - 0s 3ms/step - loss: 0.6675 - accuracy: 0.6680 - val_loss: 0.6844 - val_accuracy: 0.6260\n",
            "Epoch 38/200\n",
            "62/62 [==============================] - 0s 2ms/step - loss: 0.6672 - accuracy: 0.6680 - val_loss: 0.6843 - val_accuracy: 0.6260\n",
            "Epoch 39/200\n",
            "62/62 [==============================] - 0s 2ms/step - loss: 0.6669 - accuracy: 0.6680 - val_loss: 0.6841 - val_accuracy: 0.6260\n",
            "Epoch 40/200\n",
            "62/62 [==============================] - 0s 2ms/step - loss: 0.6666 - accuracy: 0.6680 - val_loss: 0.6840 - val_accuracy: 0.6260\n",
            "Epoch 41/200\n",
            "62/62 [==============================] - 0s 2ms/step - loss: 0.6664 - accuracy: 0.6680 - val_loss: 0.6838 - val_accuracy: 0.6260\n",
            "Epoch 42/200\n",
            "62/62 [==============================] - 0s 3ms/step - loss: 0.6661 - accuracy: 0.6680 - val_loss: 0.6837 - val_accuracy: 0.6260\n",
            "Epoch 43/200\n",
            "62/62 [==============================] - 0s 2ms/step - loss: 0.6659 - accuracy: 0.6680 - val_loss: 0.6835 - val_accuracy: 0.6260\n",
            "Epoch 44/200\n",
            "62/62 [==============================] - 0s 3ms/step - loss: 0.6656 - accuracy: 0.6680 - val_loss: 0.6834 - val_accuracy: 0.6260\n",
            "Epoch 45/200\n",
            "62/62 [==============================] - 0s 3ms/step - loss: 0.6654 - accuracy: 0.6680 - val_loss: 0.6833 - val_accuracy: 0.6260\n",
            "Epoch 46/200\n",
            "62/62 [==============================] - 0s 2ms/step - loss: 0.6652 - accuracy: 0.6680 - val_loss: 0.6832 - val_accuracy: 0.6260\n",
            "Epoch 47/200\n",
            "62/62 [==============================] - 0s 2ms/step - loss: 0.6649 - accuracy: 0.6680 - val_loss: 0.6830 - val_accuracy: 0.6260\n",
            "Epoch 48/200\n",
            "62/62 [==============================] - 0s 2ms/step - loss: 0.6647 - accuracy: 0.6680 - val_loss: 0.6829 - val_accuracy: 0.6260\n",
            "Epoch 49/200\n",
            "62/62 [==============================] - 0s 3ms/step - loss: 0.6645 - accuracy: 0.6680 - val_loss: 0.6828 - val_accuracy: 0.6260\n",
            "Epoch 50/200\n",
            "62/62 [==============================] - 0s 3ms/step - loss: 0.6642 - accuracy: 0.6680 - val_loss: 0.6826 - val_accuracy: 0.6260\n",
            "Epoch 51/200\n",
            "62/62 [==============================] - 0s 2ms/step - loss: 0.6640 - accuracy: 0.6680 - val_loss: 0.6825 - val_accuracy: 0.6260\n",
            "Epoch 52/200\n",
            "62/62 [==============================] - 0s 2ms/step - loss: 0.6638 - accuracy: 0.6680 - val_loss: 0.6824 - val_accuracy: 0.6260\n",
            "Epoch 53/200\n",
            "62/62 [==============================] - 0s 2ms/step - loss: 0.6636 - accuracy: 0.6680 - val_loss: 0.6823 - val_accuracy: 0.6260\n",
            "Epoch 54/200\n",
            "62/62 [==============================] - 0s 2ms/step - loss: 0.6634 - accuracy: 0.6680 - val_loss: 0.6822 - val_accuracy: 0.6260\n",
            "Epoch 55/200\n",
            "62/62 [==============================] - 0s 2ms/step - loss: 0.6632 - accuracy: 0.6680 - val_loss: 0.6820 - val_accuracy: 0.6260\n",
            "Epoch 56/200\n",
            "62/62 [==============================] - 0s 3ms/step - loss: 0.6630 - accuracy: 0.6680 - val_loss: 0.6819 - val_accuracy: 0.6260\n",
            "Epoch 57/200\n",
            "62/62 [==============================] - 0s 3ms/step - loss: 0.6628 - accuracy: 0.6680 - val_loss: 0.6818 - val_accuracy: 0.6260\n",
            "Epoch 58/200\n",
            "62/62 [==============================] - 0s 2ms/step - loss: 0.6626 - accuracy: 0.6680 - val_loss: 0.6817 - val_accuracy: 0.6260\n",
            "Epoch 59/200\n",
            "62/62 [==============================] - 0s 2ms/step - loss: 0.6623 - accuracy: 0.6680 - val_loss: 0.6816 - val_accuracy: 0.6260\n",
            "Epoch 60/200\n",
            "62/62 [==============================] - 0s 3ms/step - loss: 0.6621 - accuracy: 0.6680 - val_loss: 0.6815 - val_accuracy: 0.6260\n",
            "Epoch 61/200\n",
            "62/62 [==============================] - 0s 2ms/step - loss: 0.6619 - accuracy: 0.6680 - val_loss: 0.6814 - val_accuracy: 0.6260\n",
            "Epoch 62/200\n",
            "62/62 [==============================] - 0s 2ms/step - loss: 0.6618 - accuracy: 0.6680 - val_loss: 0.6813 - val_accuracy: 0.6260\n",
            "Epoch 63/200\n",
            "62/62 [==============================] - 0s 3ms/step - loss: 0.6616 - accuracy: 0.6680 - val_loss: 0.6812 - val_accuracy: 0.6260\n",
            "Epoch 64/200\n",
            "62/62 [==============================] - 0s 3ms/step - loss: 0.6614 - accuracy: 0.6680 - val_loss: 0.6811 - val_accuracy: 0.6260\n",
            "Epoch 65/200\n",
            "62/62 [==============================] - 0s 2ms/step - loss: 0.6612 - accuracy: 0.6680 - val_loss: 0.6810 - val_accuracy: 0.6260\n",
            "Epoch 66/200\n",
            "62/62 [==============================] - 0s 2ms/step - loss: 0.6610 - accuracy: 0.6680 - val_loss: 0.6809 - val_accuracy: 0.6260\n",
            "Epoch 67/200\n",
            "62/62 [==============================] - 0s 3ms/step - loss: 0.6608 - accuracy: 0.6680 - val_loss: 0.6808 - val_accuracy: 0.6260\n",
            "Epoch 68/200\n",
            "62/62 [==============================] - 0s 2ms/step - loss: 0.6606 - accuracy: 0.6680 - val_loss: 0.6807 - val_accuracy: 0.6260\n",
            "Epoch 69/200\n",
            "62/62 [==============================] - 0s 3ms/step - loss: 0.6604 - accuracy: 0.6680 - val_loss: 0.6806 - val_accuracy: 0.6260\n",
            "Epoch 70/200\n",
            "62/62 [==============================] - 0s 2ms/step - loss: 0.6602 - accuracy: 0.6680 - val_loss: 0.6805 - val_accuracy: 0.6260\n",
            "Epoch 71/200\n",
            "62/62 [==============================] - 0s 2ms/step - loss: 0.6601 - accuracy: 0.6680 - val_loss: 0.6804 - val_accuracy: 0.6260\n",
            "Epoch 72/200\n",
            "62/62 [==============================] - 0s 2ms/step - loss: 0.6599 - accuracy: 0.6680 - val_loss: 0.6803 - val_accuracy: 0.6260\n",
            "Epoch 73/200\n",
            "62/62 [==============================] - 0s 2ms/step - loss: 0.6597 - accuracy: 0.6680 - val_loss: 0.6802 - val_accuracy: 0.6260\n",
            "Epoch 74/200\n",
            "62/62 [==============================] - 0s 2ms/step - loss: 0.6595 - accuracy: 0.6680 - val_loss: 0.6801 - val_accuracy: 0.6260\n",
            "Epoch 75/200\n",
            "62/62 [==============================] - 0s 3ms/step - loss: 0.6594 - accuracy: 0.6680 - val_loss: 0.6800 - val_accuracy: 0.6260\n",
            "Epoch 76/200\n",
            "62/62 [==============================] - 0s 3ms/step - loss: 0.6592 - accuracy: 0.6680 - val_loss: 0.6799 - val_accuracy: 0.6260\n",
            "Epoch 77/200\n",
            "62/62 [==============================] - 0s 2ms/step - loss: 0.6590 - accuracy: 0.6680 - val_loss: 0.6799 - val_accuracy: 0.6260\n",
            "Epoch 78/200\n",
            "62/62 [==============================] - 0s 3ms/step - loss: 0.6589 - accuracy: 0.6680 - val_loss: 0.6798 - val_accuracy: 0.6260\n",
            "Epoch 79/200\n",
            "62/62 [==============================] - 0s 2ms/step - loss: 0.6587 - accuracy: 0.6680 - val_loss: 0.6797 - val_accuracy: 0.6260\n",
            "Epoch 80/200\n",
            "62/62 [==============================] - 0s 2ms/step - loss: 0.6585 - accuracy: 0.6680 - val_loss: 0.6796 - val_accuracy: 0.6260\n",
            "Epoch 81/200\n",
            "62/62 [==============================] - 0s 3ms/step - loss: 0.6584 - accuracy: 0.6680 - val_loss: 0.6795 - val_accuracy: 0.6260\n",
            "Epoch 82/200\n",
            "62/62 [==============================] - 0s 3ms/step - loss: 0.6582 - accuracy: 0.6680 - val_loss: 0.6795 - val_accuracy: 0.6260\n",
            "Epoch 83/200\n",
            "62/62 [==============================] - 0s 2ms/step - loss: 0.6580 - accuracy: 0.6680 - val_loss: 0.6794 - val_accuracy: 0.6260\n",
            "Epoch 84/200\n",
            "62/62 [==============================] - 0s 2ms/step - loss: 0.6579 - accuracy: 0.6680 - val_loss: 0.6793 - val_accuracy: 0.6260\n",
            "Epoch 85/200\n",
            "62/62 [==============================] - 0s 3ms/step - loss: 0.6577 - accuracy: 0.6680 - val_loss: 0.6792 - val_accuracy: 0.6260\n",
            "Epoch 86/200\n",
            "62/62 [==============================] - 0s 2ms/step - loss: 0.6576 - accuracy: 0.6680 - val_loss: 0.6792 - val_accuracy: 0.6260\n",
            "Epoch 87/200\n",
            "62/62 [==============================] - 0s 3ms/step - loss: 0.6575 - accuracy: 0.6680 - val_loss: 0.6791 - val_accuracy: 0.6260\n",
            "Epoch 88/200\n",
            "62/62 [==============================] - 0s 2ms/step - loss: 0.6573 - accuracy: 0.6680 - val_loss: 0.6790 - val_accuracy: 0.6260\n",
            "Epoch 89/200\n",
            "62/62 [==============================] - 0s 3ms/step - loss: 0.6572 - accuracy: 0.6680 - val_loss: 0.6790 - val_accuracy: 0.6260\n",
            "Epoch 90/200\n",
            "62/62 [==============================] - 0s 3ms/step - loss: 0.6570 - accuracy: 0.6680 - val_loss: 0.6789 - val_accuracy: 0.6260\n",
            "Epoch 91/200\n",
            "62/62 [==============================] - 0s 2ms/step - loss: 0.6569 - accuracy: 0.6680 - val_loss: 0.6788 - val_accuracy: 0.6260\n",
            "Epoch 92/200\n",
            "62/62 [==============================] - 0s 3ms/step - loss: 0.6568 - accuracy: 0.6680 - val_loss: 0.6788 - val_accuracy: 0.6260\n",
            "Epoch 93/200\n",
            "62/62 [==============================] - 0s 3ms/step - loss: 0.6566 - accuracy: 0.6680 - val_loss: 0.6787 - val_accuracy: 0.6260\n",
            "Epoch 94/200\n",
            "62/62 [==============================] - 0s 2ms/step - loss: 0.6565 - accuracy: 0.6680 - val_loss: 0.6786 - val_accuracy: 0.6260\n",
            "Epoch 95/200\n",
            "62/62 [==============================] - 0s 3ms/step - loss: 0.6563 - accuracy: 0.6680 - val_loss: 0.6786 - val_accuracy: 0.6260\n",
            "Epoch 96/200\n",
            "62/62 [==============================] - 0s 2ms/step - loss: 0.6562 - accuracy: 0.6680 - val_loss: 0.6785 - val_accuracy: 0.6260\n",
            "Epoch 97/200\n",
            "62/62 [==============================] - 0s 2ms/step - loss: 0.6561 - accuracy: 0.6680 - val_loss: 0.6785 - val_accuracy: 0.6260\n",
            "Epoch 98/200\n",
            "62/62 [==============================] - 0s 2ms/step - loss: 0.6560 - accuracy: 0.6680 - val_loss: 0.6784 - val_accuracy: 0.6260\n",
            "Epoch 99/200\n",
            "62/62 [==============================] - 0s 2ms/step - loss: 0.6558 - accuracy: 0.6680 - val_loss: 0.6783 - val_accuracy: 0.6260\n",
            "Epoch 100/200\n",
            "62/62 [==============================] - 0s 3ms/step - loss: 0.6557 - accuracy: 0.6680 - val_loss: 0.6783 - val_accuracy: 0.6260\n",
            "Epoch 101/200\n",
            "62/62 [==============================] - 0s 2ms/step - loss: 0.6556 - accuracy: 0.6680 - val_loss: 0.6782 - val_accuracy: 0.6260\n",
            "Epoch 102/200\n",
            "62/62 [==============================] - 0s 2ms/step - loss: 0.6555 - accuracy: 0.6680 - val_loss: 0.6782 - val_accuracy: 0.6260\n",
            "Epoch 103/200\n",
            "62/62 [==============================] - 0s 3ms/step - loss: 0.6554 - accuracy: 0.6680 - val_loss: 0.6781 - val_accuracy: 0.6260\n",
            "Epoch 104/200\n",
            "62/62 [==============================] - 0s 2ms/step - loss: 0.6552 - accuracy: 0.6680 - val_loss: 0.6781 - val_accuracy: 0.6260\n",
            "Epoch 105/200\n",
            "62/62 [==============================] - 0s 2ms/step - loss: 0.6551 - accuracy: 0.6680 - val_loss: 0.6780 - val_accuracy: 0.6260\n",
            "Epoch 106/200\n",
            "62/62 [==============================] - 0s 3ms/step - loss: 0.6550 - accuracy: 0.6680 - val_loss: 0.6780 - val_accuracy: 0.6260\n",
            "Epoch 107/200\n",
            "62/62 [==============================] - 0s 3ms/step - loss: 0.6549 - accuracy: 0.6680 - val_loss: 0.6779 - val_accuracy: 0.6260\n",
            "Epoch 108/200\n",
            "62/62 [==============================] - 0s 2ms/step - loss: 0.6547 - accuracy: 0.6680 - val_loss: 0.6779 - val_accuracy: 0.6260\n",
            "Epoch 109/200\n",
            "62/62 [==============================] - 0s 2ms/step - loss: 0.6546 - accuracy: 0.6680 - val_loss: 0.6778 - val_accuracy: 0.6260\n",
            "Epoch 110/200\n",
            "62/62 [==============================] - 0s 2ms/step - loss: 0.6545 - accuracy: 0.6680 - val_loss: 0.6778 - val_accuracy: 0.6260\n",
            "Epoch 111/200\n",
            "62/62 [==============================] - 0s 2ms/step - loss: 0.6544 - accuracy: 0.6680 - val_loss: 0.6777 - val_accuracy: 0.6260\n",
            "Epoch 112/200\n",
            "62/62 [==============================] - 0s 2ms/step - loss: 0.6543 - accuracy: 0.6680 - val_loss: 0.6777 - val_accuracy: 0.6260\n",
            "Epoch 113/200\n",
            "62/62 [==============================] - 0s 2ms/step - loss: 0.6542 - accuracy: 0.6680 - val_loss: 0.6776 - val_accuracy: 0.6260\n",
            "Epoch 114/200\n",
            "62/62 [==============================] - 0s 2ms/step - loss: 0.6541 - accuracy: 0.6680 - val_loss: 0.6776 - val_accuracy: 0.6260\n",
            "Epoch 115/200\n",
            "62/62 [==============================] - 0s 2ms/step - loss: 0.6540 - accuracy: 0.6680 - val_loss: 0.6775 - val_accuracy: 0.6260\n",
            "Epoch 116/200\n",
            "62/62 [==============================] - 0s 2ms/step - loss: 0.6539 - accuracy: 0.6680 - val_loss: 0.6775 - val_accuracy: 0.6260\n",
            "Epoch 117/200\n",
            "62/62 [==============================] - 0s 2ms/step - loss: 0.6537 - accuracy: 0.6680 - val_loss: 0.6774 - val_accuracy: 0.6260\n",
            "Epoch 118/200\n",
            "62/62 [==============================] - 0s 2ms/step - loss: 0.6536 - accuracy: 0.6680 - val_loss: 0.6774 - val_accuracy: 0.6260\n",
            "Epoch 119/200\n",
            "62/62 [==============================] - 0s 3ms/step - loss: 0.6535 - accuracy: 0.6680 - val_loss: 0.6773 - val_accuracy: 0.6260\n",
            "Epoch 120/200\n",
            "62/62 [==============================] - 0s 2ms/step - loss: 0.6534 - accuracy: 0.6680 - val_loss: 0.6773 - val_accuracy: 0.6260\n",
            "Epoch 121/200\n",
            "62/62 [==============================] - 0s 3ms/step - loss: 0.6533 - accuracy: 0.6680 - val_loss: 0.6773 - val_accuracy: 0.6260\n",
            "Epoch 122/200\n",
            "62/62 [==============================] - 0s 2ms/step - loss: 0.6532 - accuracy: 0.6680 - val_loss: 0.6772 - val_accuracy: 0.6260\n",
            "Epoch 123/200\n",
            "62/62 [==============================] - 0s 2ms/step - loss: 0.6531 - accuracy: 0.6680 - val_loss: 0.6772 - val_accuracy: 0.6260\n",
            "Epoch 124/200\n",
            "62/62 [==============================] - 0s 2ms/step - loss: 0.6530 - accuracy: 0.6680 - val_loss: 0.6771 - val_accuracy: 0.6260\n",
            "Epoch 125/200\n",
            "62/62 [==============================] - 0s 3ms/step - loss: 0.6529 - accuracy: 0.6680 - val_loss: 0.6771 - val_accuracy: 0.6260\n",
            "Epoch 126/200\n",
            "62/62 [==============================] - 0s 3ms/step - loss: 0.6528 - accuracy: 0.6680 - val_loss: 0.6770 - val_accuracy: 0.6260\n",
            "Epoch 127/200\n",
            "62/62 [==============================] - 1s 10ms/step - loss: 0.6527 - accuracy: 0.6680 - val_loss: 0.6770 - val_accuracy: 0.6260\n",
            "Epoch 128/200\n",
            "62/62 [==============================] - 0s 6ms/step - loss: 0.6526 - accuracy: 0.6680 - val_loss: 0.6770 - val_accuracy: 0.6260\n",
            "Epoch 129/200\n",
            "62/62 [==============================] - 0s 3ms/step - loss: 0.6526 - accuracy: 0.6680 - val_loss: 0.6769 - val_accuracy: 0.6260\n",
            "Epoch 130/200\n",
            "62/62 [==============================] - 0s 5ms/step - loss: 0.6525 - accuracy: 0.6680 - val_loss: 0.6769 - val_accuracy: 0.6260\n",
            "Epoch 131/200\n",
            "62/62 [==============================] - 1s 10ms/step - loss: 0.6524 - accuracy: 0.6680 - val_loss: 0.6769 - val_accuracy: 0.6260\n",
            "Epoch 132/200\n",
            "62/62 [==============================] - 0s 3ms/step - loss: 0.6523 - accuracy: 0.6680 - val_loss: 0.6768 - val_accuracy: 0.6260\n",
            "Epoch 133/200\n",
            "62/62 [==============================] - 0s 3ms/step - loss: 0.6522 - accuracy: 0.6680 - val_loss: 0.6768 - val_accuracy: 0.6260\n",
            "Epoch 134/200\n",
            "62/62 [==============================] - 0s 4ms/step - loss: 0.6521 - accuracy: 0.6680 - val_loss: 0.6768 - val_accuracy: 0.6260\n",
            "Epoch 135/200\n",
            "62/62 [==============================] - 1s 11ms/step - loss: 0.6520 - accuracy: 0.6680 - val_loss: 0.6767 - val_accuracy: 0.6260\n",
            "Epoch 136/200\n",
            "62/62 [==============================] - 0s 2ms/step - loss: 0.6519 - accuracy: 0.6680 - val_loss: 0.6767 - val_accuracy: 0.6260\n",
            "Epoch 137/200\n",
            "62/62 [==============================] - 0s 3ms/step - loss: 0.6518 - accuracy: 0.6680 - val_loss: 0.6767 - val_accuracy: 0.6260\n",
            "Epoch 138/200\n",
            "62/62 [==============================] - 0s 3ms/step - loss: 0.6517 - accuracy: 0.6680 - val_loss: 0.6766 - val_accuracy: 0.6260\n",
            "Epoch 139/200\n",
            "62/62 [==============================] - 0s 2ms/step - loss: 0.6517 - accuracy: 0.6680 - val_loss: 0.6766 - val_accuracy: 0.6260\n",
            "Epoch 140/200\n",
            "62/62 [==============================] - 0s 2ms/step - loss: 0.6516 - accuracy: 0.6680 - val_loss: 0.6766 - val_accuracy: 0.6260\n",
            "Epoch 141/200\n",
            "62/62 [==============================] - 0s 2ms/step - loss: 0.6515 - accuracy: 0.6680 - val_loss: 0.6765 - val_accuracy: 0.6260\n",
            "Epoch 142/200\n",
            "62/62 [==============================] - 0s 2ms/step - loss: 0.6514 - accuracy: 0.6680 - val_loss: 0.6765 - val_accuracy: 0.6260\n",
            "Epoch 143/200\n",
            "62/62 [==============================] - 0s 2ms/step - loss: 0.6513 - accuracy: 0.6680 - val_loss: 0.6765 - val_accuracy: 0.6260\n",
            "Epoch 144/200\n",
            "62/62 [==============================] - 0s 3ms/step - loss: 0.6512 - accuracy: 0.6680 - val_loss: 0.6764 - val_accuracy: 0.6260\n",
            "Epoch 145/200\n",
            "62/62 [==============================] - 0s 2ms/step - loss: 0.6511 - accuracy: 0.6680 - val_loss: 0.6764 - val_accuracy: 0.6260\n",
            "Epoch 146/200\n",
            "62/62 [==============================] - 0s 3ms/step - loss: 0.6511 - accuracy: 0.6680 - val_loss: 0.6764 - val_accuracy: 0.6260\n",
            "Epoch 147/200\n",
            "62/62 [==============================] - 0s 3ms/step - loss: 0.6510 - accuracy: 0.6680 - val_loss: 0.6763 - val_accuracy: 0.6260\n",
            "Epoch 148/200\n",
            "62/62 [==============================] - 0s 2ms/step - loss: 0.6509 - accuracy: 0.6680 - val_loss: 0.6763 - val_accuracy: 0.6260\n",
            "Epoch 149/200\n",
            "62/62 [==============================] - 0s 3ms/step - loss: 0.6508 - accuracy: 0.6680 - val_loss: 0.6763 - val_accuracy: 0.6260\n",
            "Epoch 150/200\n",
            "62/62 [==============================] - 0s 3ms/step - loss: 0.6507 - accuracy: 0.6680 - val_loss: 0.6762 - val_accuracy: 0.6260\n",
            "Epoch 151/200\n",
            "62/62 [==============================] - 0s 3ms/step - loss: 0.6507 - accuracy: 0.6680 - val_loss: 0.6762 - val_accuracy: 0.6260\n",
            "Epoch 152/200\n",
            "62/62 [==============================] - 0s 2ms/step - loss: 0.6506 - accuracy: 0.6680 - val_loss: 0.6762 - val_accuracy: 0.6260\n",
            "Epoch 153/200\n",
            "62/62 [==============================] - 0s 3ms/step - loss: 0.6505 - accuracy: 0.6680 - val_loss: 0.6761 - val_accuracy: 0.6260\n",
            "Epoch 154/200\n",
            "62/62 [==============================] - 0s 3ms/step - loss: 0.6505 - accuracy: 0.6680 - val_loss: 0.6761 - val_accuracy: 0.6260\n",
            "Epoch 155/200\n",
            "62/62 [==============================] - 0s 3ms/step - loss: 0.6504 - accuracy: 0.6680 - val_loss: 0.6761 - val_accuracy: 0.6260\n",
            "Epoch 156/200\n",
            "62/62 [==============================] - 0s 3ms/step - loss: 0.6503 - accuracy: 0.6680 - val_loss: 0.6761 - val_accuracy: 0.6260\n",
            "Epoch 157/200\n",
            "62/62 [==============================] - 0s 3ms/step - loss: 0.6502 - accuracy: 0.6680 - val_loss: 0.6760 - val_accuracy: 0.6260\n",
            "Epoch 158/200\n",
            "62/62 [==============================] - 0s 3ms/step - loss: 0.6502 - accuracy: 0.6680 - val_loss: 0.6760 - val_accuracy: 0.6260\n",
            "Epoch 159/200\n",
            "62/62 [==============================] - 0s 2ms/step - loss: 0.6501 - accuracy: 0.6680 - val_loss: 0.6760 - val_accuracy: 0.6260\n",
            "Epoch 160/200\n",
            "62/62 [==============================] - 0s 3ms/step - loss: 0.6500 - accuracy: 0.6680 - val_loss: 0.6759 - val_accuracy: 0.6260\n",
            "Epoch 161/200\n",
            "62/62 [==============================] - 0s 2ms/step - loss: 0.6500 - accuracy: 0.6680 - val_loss: 0.6759 - val_accuracy: 0.6260\n",
            "Epoch 162/200\n",
            "62/62 [==============================] - 0s 3ms/step - loss: 0.6499 - accuracy: 0.6680 - val_loss: 0.6759 - val_accuracy: 0.6260\n",
            "Epoch 163/200\n",
            "62/62 [==============================] - 0s 3ms/step - loss: 0.6498 - accuracy: 0.6680 - val_loss: 0.6758 - val_accuracy: 0.6260\n",
            "Epoch 164/200\n",
            "62/62 [==============================] - 0s 3ms/step - loss: 0.6497 - accuracy: 0.6680 - val_loss: 0.6758 - val_accuracy: 0.6260\n",
            "Epoch 165/200\n",
            "62/62 [==============================] - 0s 2ms/step - loss: 0.6497 - accuracy: 0.6680 - val_loss: 0.6758 - val_accuracy: 0.6260\n",
            "Epoch 166/200\n",
            "62/62 [==============================] - 0s 3ms/step - loss: 0.6496 - accuracy: 0.6680 - val_loss: 0.6758 - val_accuracy: 0.6260\n",
            "Epoch 167/200\n",
            "62/62 [==============================] - 0s 3ms/step - loss: 0.6495 - accuracy: 0.6680 - val_loss: 0.6757 - val_accuracy: 0.6260\n",
            "Epoch 168/200\n",
            "62/62 [==============================] - 0s 3ms/step - loss: 0.6495 - accuracy: 0.6680 - val_loss: 0.6757 - val_accuracy: 0.6260\n",
            "Epoch 169/200\n",
            "62/62 [==============================] - 0s 2ms/step - loss: 0.6494 - accuracy: 0.6680 - val_loss: 0.6757 - val_accuracy: 0.6260\n",
            "Epoch 170/200\n",
            "62/62 [==============================] - 0s 2ms/step - loss: 0.6493 - accuracy: 0.6680 - val_loss: 0.6757 - val_accuracy: 0.6260\n",
            "Epoch 171/200\n",
            "62/62 [==============================] - 0s 2ms/step - loss: 0.6493 - accuracy: 0.6680 - val_loss: 0.6756 - val_accuracy: 0.6260\n",
            "Epoch 172/200\n",
            "62/62 [==============================] - 0s 3ms/step - loss: 0.6492 - accuracy: 0.6680 - val_loss: 0.6756 - val_accuracy: 0.6260\n",
            "Epoch 173/200\n",
            "62/62 [==============================] - 0s 2ms/step - loss: 0.6492 - accuracy: 0.6680 - val_loss: 0.6756 - val_accuracy: 0.6260\n",
            "Epoch 174/200\n",
            "62/62 [==============================] - 0s 3ms/step - loss: 0.6491 - accuracy: 0.6680 - val_loss: 0.6756 - val_accuracy: 0.6260\n",
            "Epoch 175/200\n",
            "62/62 [==============================] - 0s 3ms/step - loss: 0.6490 - accuracy: 0.6680 - val_loss: 0.6755 - val_accuracy: 0.6260\n",
            "Epoch 176/200\n",
            "62/62 [==============================] - 0s 3ms/step - loss: 0.6490 - accuracy: 0.6680 - val_loss: 0.6755 - val_accuracy: 0.6260\n",
            "Epoch 177/200\n",
            "62/62 [==============================] - 0s 2ms/step - loss: 0.6489 - accuracy: 0.6680 - val_loss: 0.6755 - val_accuracy: 0.6260\n",
            "Epoch 178/200\n",
            "62/62 [==============================] - 0s 3ms/step - loss: 0.6488 - accuracy: 0.6680 - val_loss: 0.6755 - val_accuracy: 0.6260\n",
            "Epoch 179/200\n",
            "62/62 [==============================] - 0s 3ms/step - loss: 0.6488 - accuracy: 0.6680 - val_loss: 0.6754 - val_accuracy: 0.6260\n",
            "Epoch 180/200\n",
            "62/62 [==============================] - 0s 4ms/step - loss: 0.6487 - accuracy: 0.6680 - val_loss: 0.6754 - val_accuracy: 0.6260\n",
            "Epoch 181/200\n",
            "62/62 [==============================] - 0s 3ms/step - loss: 0.6487 - accuracy: 0.6680 - val_loss: 0.6754 - val_accuracy: 0.6260\n",
            "Epoch 182/200\n",
            "62/62 [==============================] - 0s 3ms/step - loss: 0.6486 - accuracy: 0.6680 - val_loss: 0.6754 - val_accuracy: 0.6260\n",
            "Epoch 183/200\n",
            "62/62 [==============================] - 0s 3ms/step - loss: 0.6485 - accuracy: 0.6680 - val_loss: 0.6754 - val_accuracy: 0.6260\n",
            "Epoch 184/200\n",
            "62/62 [==============================] - 0s 3ms/step - loss: 0.6485 - accuracy: 0.6680 - val_loss: 0.6753 - val_accuracy: 0.6260\n",
            "Epoch 185/200\n",
            "62/62 [==============================] - 0s 3ms/step - loss: 0.6484 - accuracy: 0.6680 - val_loss: 0.6753 - val_accuracy: 0.6260\n",
            "Epoch 186/200\n",
            "62/62 [==============================] - 0s 2ms/step - loss: 0.6484 - accuracy: 0.6680 - val_loss: 0.6753 - val_accuracy: 0.6260\n",
            "Epoch 187/200\n",
            "62/62 [==============================] - 0s 3ms/step - loss: 0.6483 - accuracy: 0.6680 - val_loss: 0.6753 - val_accuracy: 0.6260\n",
            "Epoch 188/200\n",
            "62/62 [==============================] - 0s 2ms/step - loss: 0.6483 - accuracy: 0.6680 - val_loss: 0.6753 - val_accuracy: 0.6260\n",
            "Epoch 189/200\n",
            "62/62 [==============================] - 0s 3ms/step - loss: 0.6482 - accuracy: 0.6680 - val_loss: 0.6752 - val_accuracy: 0.6260\n",
            "Epoch 190/200\n",
            "62/62 [==============================] - 0s 3ms/step - loss: 0.6481 - accuracy: 0.6680 - val_loss: 0.6752 - val_accuracy: 0.6260\n",
            "Epoch 191/200\n",
            "62/62 [==============================] - 0s 4ms/step - loss: 0.6481 - accuracy: 0.6680 - val_loss: 0.6752 - val_accuracy: 0.6260\n",
            "Epoch 192/200\n",
            "62/62 [==============================] - 0s 3ms/step - loss: 0.6480 - accuracy: 0.6680 - val_loss: 0.6752 - val_accuracy: 0.6260\n",
            "Epoch 193/200\n",
            "62/62 [==============================] - 0s 3ms/step - loss: 0.6480 - accuracy: 0.6680 - val_loss: 0.6751 - val_accuracy: 0.6260\n",
            "Epoch 194/200\n",
            "62/62 [==============================] - 0s 3ms/step - loss: 0.6479 - accuracy: 0.6680 - val_loss: 0.6751 - val_accuracy: 0.6260\n",
            "Epoch 195/200\n",
            "62/62 [==============================] - 0s 3ms/step - loss: 0.6479 - accuracy: 0.6680 - val_loss: 0.6751 - val_accuracy: 0.6260\n",
            "Epoch 196/200\n",
            "62/62 [==============================] - 0s 3ms/step - loss: 0.6478 - accuracy: 0.6680 - val_loss: 0.6751 - val_accuracy: 0.6260\n",
            "Epoch 197/200\n",
            "62/62 [==============================] - 0s 3ms/step - loss: 0.6478 - accuracy: 0.6680 - val_loss: 0.6751 - val_accuracy: 0.6260\n",
            "Epoch 198/200\n",
            "62/62 [==============================] - 0s 3ms/step - loss: 0.6477 - accuracy: 0.6680 - val_loss: 0.6751 - val_accuracy: 0.6260\n",
            "Epoch 199/200\n",
            "62/62 [==============================] - 0s 2ms/step - loss: 0.6477 - accuracy: 0.6680 - val_loss: 0.6750 - val_accuracy: 0.6260\n",
            "Epoch 200/200\n",
            "62/62 [==============================] - 0s 3ms/step - loss: 0.6476 - accuracy: 0.6680 - val_loss: 0.6750 - val_accuracy: 0.6260\n"
          ]
        }
      ]
    },
    {
      "cell_type": "markdown",
      "metadata": {
        "id": "80o1i3fzZsA-"
      },
      "source": [
        "**11. Plot the training loss and accuracy**"
      ]
    },
    {
      "cell_type": "code",
      "source": [
        "import matplotlib.pyplot as plt \n",
        "acc = hist.history['accuracy']\n",
        "val_acc = hist.history['val_accuracy']\n",
        "loss = hist.history['loss']\n",
        "val_loss = hist.history['val_loss']\n",
        " \n",
        "epochs = range(len(acc))\n",
        " \n",
        "plt.plot(epochs, acc, 'b', label='Training acc')\n",
        "plt.plot(epochs, val_acc, 'r', label='Validation acc')\n",
        "plt.title('Training and validation accuracy')\n",
        "plt.legend()\n",
        "plt.savefig('custom_trainvalacc.png')\n",
        "plt.figure()\n",
        " \n",
        "plt.plot(epochs, loss, 'b', label='Training loss')\n",
        "plt.plot(epochs, val_loss, 'r', label='Validation loss')\n",
        "plt.title('Training and validation loss')\n",
        "plt.legend()\n",
        " \n",
        "#plt.show()\n",
        "plt.savefig('custom_trainvalloss.png')\n",
        "plt.figure()"
      ],
      "metadata": {
        "colab": {
          "base_uri": "https://localhost:8080/",
          "height": 580
        },
        "id": "69dOEi6HAiXT",
        "outputId": "a9a6289f-cf35-481a-ac80-c3312d59fd4e"
      },
      "execution_count": null,
      "outputs": [
        {
          "output_type": "execute_result",
          "data": {
            "text/plain": [
              "<Figure size 432x288 with 0 Axes>"
            ]
          },
          "metadata": {},
          "execution_count": 43
        },
        {
          "output_type": "display_data",
          "data": {
            "text/plain": [
              "<Figure size 432x288 with 1 Axes>"
            ],
            "image/png": "[encoded data removed]"
          },
          "metadata": {
            "needs_background": "light"
          }
        },
        {
          "output_type": "display_data",
          "data": {
            "text/plain": [
              "<Figure size 432x288 with 1 Axes>"
            ],
            "image/png": "[encoded data removed]"
          },
          "metadata": {
            "needs_background": "light"
          }
        },
        {
          "output_type": "display_data",
          "data": {
            "text/plain": [
              "<Figure size 432x288 with 0 Axes>"
            ]
          },
          "metadata": {}
        }
      ]
    },
    {
      "cell_type": "markdown",
      "metadata": {
        "id": "a8fUXoqeZvwf"
      },
      "source": [
        "**12. Evaluate the performance**"
      ]
    },
    {
      "cell_type": "code",
      "metadata": {
        "colab": {
          "base_uri": "https://localhost:8080/"
        },
        "id": "wawHhkURYMLE",
        "outputId": "038f28b4-210c-43fa-91e9-73479baf283c"
      },
      "source": [
        "res =model.evaluate(X_testing, Y_testing)"
      ],
      "execution_count": null,
      "outputs": [
        {
          "output_type": "stream",
          "name": "stdout",
          "text": [
            "5/5 [==============================] - 0s 3ms/step - loss: 0.5638 - accuracy: 0.6623\n"
          ]
        }
      ]
    },
    {
      "cell_type": "markdown",
      "metadata": {
        "id": "0WCSw36oZyG_"
      },
      "source": [
        "**13. Predict on new datatset**\n"
      ]
    },
    {
      "cell_type": "code",
      "metadata": {
        "colab": {
          "base_uri": "https://localhost:8080/"
        },
        "id": "CcE27mGFYo3G",
        "outputId": "809ffe10-c29c-4990-e1f5-39917377209a"
      },
      "source": [
        "test=X_testing[0]\n",
        "y_act=Y_testing[0]\n",
        "result=model.predict(test.reshape(1,8))\n",
        "result"
      ],
      "execution_count": null,
      "outputs": [
        {
          "output_type": "execute_result",
          "data": {
            "text/plain": [
              "array([[0.45582914, 0.54417086]], dtype=float32)"
            ]
          },
          "metadata": {},
          "execution_count": 25
        }
      ]
    },
    {
      "cell_type": "code",
      "metadata": {
        "colab": {
          "base_uri": "https://localhost:8080/"
        },
        "id": "T4RDC-ZHYqv_",
        "outputId": "bd9724db-09c4-4435-e3a0-68b64721fd10"
      },
      "source": [
        "import numpy as np\n",
        "y_pred = np.round(result)\n",
        "print(\"Actual:\"+ str(y_act))\n",
        "print(\"Predicted:\"+str(y_pred))"
      ],
      "execution_count": null,
      "outputs": [
        {
          "output_type": "stream",
          "name": "stdout",
          "text": [
            "Actual:[1. 0.]\n",
            "Predicted:[[0. 1.]]\n"
          ]
        }
      ]
    },
    {
      "cell_type": "markdown",
      "metadata": {
        "id": "E9mMqJtXYz2Q"
      },
      "source": [
        "**Reference:** - https://keras.io/"
      ]
    }
  ]
}